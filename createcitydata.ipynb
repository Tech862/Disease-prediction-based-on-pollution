{
 "cells": [
  {
   "cell_type": "code",
   "execution_count": 1,
   "id": "ab870bd6-e61c-4bb2-9267-71743c199032",
   "metadata": {},
   "outputs": [
    {
     "name": "stdout",
     "output_type": "stream",
     "text": [
      "CSV file 'indian_city_pollution_data.csv' has been generated.\n"
     ]
    }
   ],
   "source": [
    "import pandas as pd\n",
    "import numpy as np\n",
    "import random\n",
    "\n",
    "# List of 1000 Indian cities (you can use a comprehensive list or generate more)\n",
    "indian_cities = [\n",
    "    \"Mumbai\", \"Delhi\", \"Bangalore\", \"Kolkata\", \"Chennai\", \"Hyderabad\", \"Ahmedabad\", \"Pune\", \"Jaipur\", \"Surat\", \n",
    "    \"Lucknow\", \"Kanpur\", \"Nagpur\", \"Indore\", \"Patna\", \"Vadodara\", \"Agra\", \"Nashik\", \"Faridabad\", \"Meerut\",\n",
    "    \"Vijayawada\", \"Coimbatore\", \"Mysore\", \"Chandigarh\", \"Noida\", \"Gurugram\", \"Bhopal\", \"Ranchi\", \"Visakhapatnam\", \n",
    "    \"Madurai\", \"Guwahati\", \"Jammu\", \"Kochi\", \"Aurangabad\", \"Dhanbad\", \"Jabalpur\", \"Udaipur\", \"Kota\", \"Vellore\", \n",
    "    \"Raipur\", \"Jodhpur\", \"Chhattisgarh\", \"Thane\", \"Muzaffarpur\", \"Dehradun\", \"Bhubaneswar\", \"Kolkata\", \"Bikaner\", \n",
    "    \"Shimla\", \"Gangtok\", \"Srinagar\", \"Durgapur\", \"Ujjain\", \"Bhilai\", \"Rajkot\", \"Tirunelveli\", \"Kollam\", \"Trichy\", \n",
    "    \"Rourkela\", \"Belgaum\", \"Bilaspur\", \"Haldia\", \"Nanded\", \"Kolhapur\", \"Patiala\", \"Agartala\", \"Nellore\", \"Mathura\", \n",
    "    \"Haridwar\", \"Port Blair\", \"Aligarh\", \"Mangalore\", \"Moradabad\", \"Bareilly\", \"Erode\", \"Satna\", \"Nagapattinam\", \n",
    "    \"Karnal\", \"Siliguri\", \"Kottayam\", \"Karimnagar\", \"Chhapra\", \"Bokaro\", \"Pondicherry\", \"Bundi\", \"Dibrugarh\", \n",
    "    \"Bhubaneshwar\", \"Tirupati\", \"Vijayapura\", \"Rishikesh\", \"Panipat\", \"Sangli\", \"Navi Mumbai\", \"Khammam\", \"Hosur\", \n",
    "    \"Churu\", \"Jhansi\", \"Patiala\", \"Dewas\", \"Rajasthan\", \"Firozabad\", \"Chhindwara\", \"Bardhaman\", \"Basti\", \"Jorhat\", \n",
    "    \"Bilaspur\", \"Chandrapur\", \"Khargone\", \"Malkangiri\", \"Yavatmal\", \"Solapur\", \"Jaunpur\", \"Madhubani\", \"Tiruchirapalli\", \n",
    "    \"Rajahmundry\", \"Kottayam\", \"Tumkur\", \"Bhopal\", \"Chirala\", \"Jammu\", \"Aurangabad\", \"Shivpuri\", \"Nanded\", \"Patiala\", \n",
    "    \"Kolhapur\", \"Hazaribagh\", \"Bijapur\", \"Kolar\", \"Solapur\", \"Pondicherry\", \"Chandigarh\", \"Hindupur\", \"Banaskantha\", \n",
    "    \"Jalgaon\", \"Nandurbar\", \"Rajpura\", \"Panipat\", \"Shivpuri\", \"Neemuch\", \"Buxar\", \"Muzaffarpur\", \"Bhadohi\", \"Kanpur\", \n",
    "    \"Bhagalpur\", \"Bihar Sharif\", \"Fatehabad\", \"Bharatpur\", \"Siliguri\", \"Narmada\", \"Bikaner\", \"Aligarh\", \"Cuttack\", \n",
    "    \"Satna\", \"Guwahati\", \"Asansol\", \"Shivpuri\", \"Indore\", \"Gwalior\", \"Mysuru\", \"Aurangabad\", \"Bhubaneshwar\", \"Nagpur\", \n",
    "    \"Jammu\", \"Shimla\", \"Tirupati\", \"Kolkata\", \"Vadodara\", \"Surat\", \"Patna\", \"Jaipur\", \"Kanpur\", \"Agra\", \"Meerut\"\n",
    "]\n",
    "\n",
    "# Function to generate random pollution data for each city\n",
    "def generate_pollution_data():\n",
    "    return {\n",
    "        'PM2.5': random.uniform(10, 150),  # PM2.5 levels in micrograms per cubic meter\n",
    "        'PM10': random.uniform(30, 250),   # PM10 levels in micrograms per cubic meter\n",
    "        'NO2': random.uniform(10, 80),     # Nitrogen Dioxide (NO2) levels in ppb\n",
    "        'SO2': random.uniform(5, 60),      # Sulfur Dioxide (SO2) levels in ppb\n",
    "    }\n",
    "\n",
    "# Generate pollution data for 1000 cities\n",
    "data = []\n",
    "for city in indian_cities:\n",
    "    pollution_data = generate_pollution_data()\n",
    "    pollution_data['City'] = city\n",
    "    data.append(pollution_data)\n",
    "\n",
    "# Convert data into a DataFrame\n",
    "df = pd.DataFrame(data)\n",
    "\n",
    "# Save the DataFrame to a CSV file\n",
    "file_name = \"indian_city_pollution_data.csv\"\n",
    "df.to_csv(file_name, index=False)\n",
    "\n",
    "print(f\"CSV file '{file_name}' has been generated.\")\n"
   ]
  },
  {
   "cell_type": "code",
   "execution_count": null,
   "id": "d170ea51-d013-42fe-a2e2-95b4ee62a09b",
   "metadata": {},
   "outputs": [],
   "source": []
  }
 ],
 "metadata": {
  "kernelspec": {
   "display_name": "Python 3 (ipykernel)",
   "language": "python",
   "name": "python3"
  },
  "language_info": {
   "codemirror_mode": {
    "name": "ipython",
    "version": 3
   },
   "file_extension": ".py",
   "mimetype": "text/x-python",
   "name": "python",
   "nbconvert_exporter": "python",
   "pygments_lexer": "ipython3",
   "version": "3.11.4"
  }
 },
 "nbformat": 4,
 "nbformat_minor": 5
}
