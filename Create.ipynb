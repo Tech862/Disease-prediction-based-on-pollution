{
 "cells": [
  {
   "cell_type": "code",
   "execution_count": 1,
   "id": "b6dc3c57-6a68-4b6f-91ac-1e08fca4192f",
   "metadata": {},
   "outputs": [
    {
     "name": "stdout",
     "output_type": "stream",
     "text": [
      "Generated Random Pollution Data:\n",
      "       PM2.5        PM10        NO2        SO2        Disease\n",
      "0  43.708611   87.255347  45.149907  13.486602  Heart Disease\n",
      "1  95.564288   79.924177  15.148160  10.267264         Asthma\n",
      "2  75.879455   51.707704  24.065183  19.360973           COPD\n",
      "3  63.879264  129.308001  41.480435   5.941612    Lung Cancer\n",
      "4  24.041678  105.792349  31.514914  12.581415  Heart Disease\n",
      "Data successfully saved to pollution_data_10000.csv\n"
     ]
    }
   ],
   "source": [
    "import pandas as pd\n",
    "import numpy as np\n",
    "\n",
    "# Function to generate random pollution data with placeholder diseases\n",
    "def generate_random_pollution_data(num_samples=10000):  # Updated to 10,000 samples\n",
    "    np.random.seed(42)  # Ensure reproducibility\n",
    "    \n",
    "    # Generate random pollution data within specified ranges\n",
    "    data = {\n",
    "        'PM2.5': np.random.uniform(10, 100, size=num_samples),  # PM2.5 values between 10 and 100\n",
    "        'PM10': np.random.uniform(20, 200, size=num_samples),  # PM10 values between 20 and 200\n",
    "        'NO2': np.random.uniform(5, 60, size=num_samples),     # NO2 values between 5 and 60\n",
    "        'SO2': np.random.uniform(2, 20, size=num_samples),     # SO2 values between 2 and 20\n",
    "        'Disease': np.random.choice(['Asthma', 'Bronchitis', 'Lung Cancer', \n",
    "                                     'COPD', 'Heart Disease', 'Allergies', \n",
    "                                     'Respiratory Infections'], size=num_samples)  # Random placeholder labels\n",
    "    }\n",
    "    \n",
    "    return pd.DataFrame(data)\n",
    "\n",
    "# Generate the dataset\n",
    "random_pollution_data = generate_random_pollution_data(num_samples=10000)\n",
    "\n",
    "# Display the first few rows of the dataset\n",
    "print(\"Generated Random Pollution Data:\")\n",
    "print(random_pollution_data.head())\n",
    "\n",
    "# Save the dataset to a CSV file\n",
    "file_name = \"pollution_data_10000.csv\"  # Updated file name\n",
    "random_pollution_data.to_csv(file_name, index=False)\n",
    "\n",
    "print(f\"Data successfully saved to {file_name}\")\n"
   ]
  },
  {
   "cell_type": "code",
   "execution_count": null,
   "id": "c18f882f-9a88-4835-ba5b-ea5ae1f9ab8b",
   "metadata": {},
   "outputs": [],
   "source": []
  }
 ],
 "metadata": {
  "kernelspec": {
   "display_name": "Python 3 (ipykernel)",
   "language": "python",
   "name": "python3"
  },
  "language_info": {
   "codemirror_mode": {
    "name": "ipython",
    "version": 3
   },
   "file_extension": ".py",
   "mimetype": "text/x-python",
   "name": "python",
   "nbconvert_exporter": "python",
   "pygments_lexer": "ipython3",
   "version": "3.11.4"
  }
 },
 "nbformat": 4,
 "nbformat_minor": 5
}
